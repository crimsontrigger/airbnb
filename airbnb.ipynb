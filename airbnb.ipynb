{
 "cells": [
  {
   "cell_type": "code",
   "execution_count": 1,
   "metadata": {},
   "outputs": [],
   "source": [
    "%matplotlib inline\n",
    "%reload_ext autoreload\n",
    "%autoreload 2\n",
    "from fastai.structured import *\n",
    "from fastai.column_data import *\n",
    "from fastai.imports import *\n",
    "from fastai.dataset import *\n",
    "from fastai.torch_imports import *\n",
    "from fastai.column_data import *\n",
    "from sklearn_pandas import DataFrameMapper\n",
    "from sklearn.preprocessing import LabelEncoder , Imputer , StandardScaler\n",
    "import operator\n",
    "import os\n",
    "np.set_printoptions(threshold=50,edgeitems=20)\n",
    "PATH='data/airbnb/'"
   ]
  },
  {
   "cell_type": "code",
   "execution_count": null,
   "metadata": {},
   "outputs": [],
   "source": [
    "!ls data/airbnb\n"
   ]
  },
  {
   "cell_type": "code",
   "execution_count": null,
   "metadata": {},
   "outputs": [],
   "source": [
    "table_names = ['train_users_2','sessions']\n",
    "tables = [pd.read_csv(f'{PATH}{fname}.csv',low_memory=False) for fname in table_names]"
   ]
  },
  {
   "cell_type": "code",
   "execution_count": null,
   "metadata": {},
   "outputs": [],
   "source": [
    "test = pd.read_csv(f'{PATH}test_users.csv')"
   ]
  },
  {
   "cell_type": "code",
   "execution_count": null,
   "metadata": {},
   "outputs": [],
   "source": [
    "for t in tables : display(t.head())"
   ]
  },
  {
   "cell_type": "code",
   "execution_count": null,
   "metadata": {},
   "outputs": [],
   "source": [
    "for t in tables : display(DataFrameSummary(t).summary())"
   ]
  },
  {
   "cell_type": "code",
   "execution_count": null,
   "metadata": {},
   "outputs": [],
   "source": [
    "#loading data 1.train\n",
    "df_train = pd.read_csv(f'{PATH}train_users_2.csv')\n",
    "target = df_train['country_destination']\n",
    "df_train = df_train.drop(['country_destination'],axis=1)"
   ]
  },
  {
   "cell_type": "code",
   "execution_count": null,
   "metadata": {},
   "outputs": [],
   "source": [
    "#    2.test\n",
    "df_test = pd.read_csv(f'{PATH}test_users.csv')\n",
    "id_test = df_test['id']"
   ]
  },
  {
   "cell_type": "code",
   "execution_count": null,
   "metadata": {},
   "outputs": [],
   "source": [
    "#    3.sessions\n",
    "df_sessions = pd.read_csv(f'{PATH}sessions.csv')\n",
    "df_sessions['id'] = df_sessions['user_id']\n",
    "df_sessions = df_sessions.drop(['user_id'],axis = 1)"
   ]
  },
  {
   "cell_type": "markdown",
   "metadata": {},
   "source": [
    "preaprring session data"
   ]
  },
  {
   "cell_type": "code",
   "execution_count": null,
   "metadata": {},
   "outputs": [],
   "source": [
    "#fillinf nan with specific value NAN\n",
    "df_sessions.action = df_sessions.action.fillna('NAN')\n",
    "df_sessions.action_type = df_sessions.action_type.fillna('NAN')\n",
    "df_sessions.action_detail = df_sessions.action_detail.fillna('NAN')\n",
    "df_sessions.device_type = df_sessions.device_type.fillna('NAN')"
   ]
  },
  {
   "cell_type": "code",
   "execution_count": null,
   "metadata": {},
   "outputs": [],
   "source": [
    "#action values with low frequency are changed to other\n",
    "act_freq = 100  #Threshold for frequency\n",
    "act = dict(zip(*np.unique(df_sessions.action, return_counts=True)))\n",
    "df_sessions.action = df_sessions.action.apply(lambda x: 'OTHER' if act[x] < act_freq else x)"
   ]
  },
  {
   "cell_type": "code",
   "execution_count": null,
   "metadata": {},
   "outputs": [],
   "source": [
    "#Computing value_counts. use for one-hot encoding\n",
    "f_act = df_sessions.action.value_counts().argsort()\n",
    "f_act_detail = df_sessions.action_detail.value_counts().argsort()\n",
    "f_act_type = df_sessions.action_type.value_counts().argsort()\n",
    "f_dev_type = df_sessions.device_type.value_counts().argsort()"
   ]
  },
  {
   "cell_type": "code",
   "execution_count": null,
   "metadata": {},
   "outputs": [],
   "source": [
    "#grouping by session id\n",
    "dgr_sess = df_sessions.groupby(['id'])"
   ]
  },
  {
   "cell_type": "code",
   "execution_count": null,
   "metadata": {},
   "outputs": [],
   "source": [
    "#loop to create features\n",
    "samples = []\n",
    "cont = 0\n",
    "ln = len(dgr_sess)\n",
    "for g in dgr_sess:\n",
    "    gr = g[1]\n",
    "    l = []\n",
    "    l.append(g[0])  #id\n",
    "    l.append(len(gr))  #number of values\n",
    "    sev = gr.secs_elapsed.fillna(0).values\n",
    "    #action features   how many times each value occurs, numb of unique values, mean and std\n",
    "    c_act = [0] * len(f_act)\n",
    "    for i,v in enumerate(gr.action.values):\n",
    "        c_act[f_act[v]] += 1\n",
    "    _, c_act_uqc = np.unique(gr.action.values,return_counts = True)\n",
    "    c_act += [len(c_act_uqc),np.mean(c_act_uqc),np.std(c_act_uqc)]\n",
    "    l = l + c_act\n",
    "    \n",
    "    #action_detail features\n",
    "    c_act_detail = [0] * len(f_act_detail)\n",
    "    for i,v in enumerate(gr.action_detail.values):\n",
    "        c_act_detail[f_act_detail[v]] += 1 \n",
    "    _, c_act_det_uqc = np.unique(gr.action_detail.values, return_counts=True)\n",
    "    c_act_detail += [len(c_act_det_uqc), np.mean(c_act_det_uqc), np.std(c_act_det_uqc)]\n",
    "    l = l + c_act_detail\n",
    "    \n",
    "    #action_type features with log of the sum of secs_elapsed for each value\n",
    "    l_act_type = [0] * len(f_act_type)\n",
    "    c_act_type = [0] * len(f_act_type)\n",
    "    for i,v in enumerate(gr.action_type.values):\n",
    "        l_act_type[f_act_type[v]] += sev[i]   \n",
    "        c_act_type[f_act_type[v]] += 1  \n",
    "    l_act_type = np.log(1 + np.array(l_act_type)).tolist()\n",
    "    _, c_act_type_uqc = np.unique(gr.action_type.values, return_counts=True)\n",
    "    c_act_type += [len(c_act_type_uqc), np.mean(c_act_type_uqc), np.std(c_act_type_uqc)]\n",
    "    l = l + c_act_type + l_act_type \n",
    "    \n",
    "    #device_type features\n",
    "    c_dev_type  = [0] * len(f_dev_type)\n",
    "    for i,v in enumerate(gr.device_type .values):\n",
    "        c_dev_type[f_dev_type[v]] += 1 \n",
    "    c_dev_type.append(len(np.unique(gr.device_type.values)))\n",
    "    _, c_dev_type_uqc = np.unique(gr.device_type.values, return_counts=True)\n",
    "    c_dev_type += [len(c_dev_type_uqc), np.mean(c_dev_type_uqc), np.std(c_dev_type_uqc)]        \n",
    "    l = l + c_dev_type \n",
    "    \n",
    "    #secs_elapsed features\n",
    "    l_secs = [0] * 5 \n",
    "    l_log = [0] * 15\n",
    "    if len(sev) > 0:\n",
    "        #Simple statistics about the secs_elapsed values.\n",
    "        l_secs[0] = np.log(1 + np.sum(sev))\n",
    "        l_secs[1] = np.log(1 + np.mean(sev)) \n",
    "        l_secs[2] = np.log(1 + np.std(sev))\n",
    "        l_secs[3] = np.log(1 + np.median(sev))\n",
    "        l_secs[4] = l_secs[0] / float(l[1])\n",
    "        \n",
    "        #Values are grouped in 15 intervals. Compute the number of values\n",
    "        #in each interval.\n",
    "        log_sev = np.log(1 + sev).astype(int)\n",
    "        l_log = np.bincount(log_sev, minlength=15).tolist()                      \n",
    "    l = l + l_secs + l_log\n",
    "    \n",
    "    samples.append(l)\n",
    "    cont +=1"
   ]
  },
  {
   "cell_type": "code",
   "execution_count": null,
   "metadata": {},
   "outputs": [],
   "source": [
    "#creating datafram\n",
    "col_names = []\n",
    "for i in range(len(samples[0])-1):\n",
    "    col_names.append('c_'+str(i))\n",
    "#preparring objects\n",
    "samples = np.array(samples)\n",
    "samp_ar = samples[:,1:].astype(np.float16)\n",
    "samp_id = samples[:,0]\n",
    "\n",
    "df_agg_sess = pd.DataFrame(samp_ar,columns=col_names)\n",
    "df_agg_sess['id']=samp_id\n",
    "df_agg_sess.index = df_agg_sess.id"
   ]
  },
  {
   "cell_type": "markdown",
   "metadata": {},
   "source": [
    "working on train and test data"
   ]
  },
  {
   "cell_type": "code",
   "execution_count": null,
   "metadata": {},
   "outputs": [],
   "source": [
    "#concatenate\n",
    "df_tt = pd.concat((df_train, df_test), axis=0, ignore_index=True)\n",
    "df_tt.index = df_tt.id\n",
    "#replace unknown or missing values\n",
    "df_tt = df_tt.fillna(-1)\n",
    "df_tt = df_tt.replace('-unknown-', -1)"
   ]
  },
  {
   "cell_type": "code",
   "execution_count": null,
   "metadata": {},
   "outputs": [],
   "source": [
    "from datetime import datetime , date"
   ]
  },
  {
   "cell_type": "code",
   "execution_count": null,
   "metadata": {},
   "outputs": [],
   "source": [
    "df_tt['n_null'] = np.array([sum(r==-1) for r in df_tt.values])  #number of nulls\n",
    "\n",
    "#date_account_created compute year month day week_number weekday\n",
    "dac = np.vstack(df_tt.date_account_created.astype(str).apply(lambda x: list(map(int, x.split('-')))).values)\n",
    "df_tt['dac_y'] = dac[:,0]\n",
    "df_tt['dac_m'] = dac[:,1]\n",
    "df_tt['dac_d'] = dac[:,2]\n",
    "dac_dates = [datetime(x[0],x[1],x[2]) for x in dac]\n",
    "df_tt['dac_wn'] = np.array([d.isocalendar()[1] for d in dac_dates])\n",
    "df_tt['dac_w'] = np.array([d.weekday() for d in dac_dates])\n",
    "df_tt_wd = pd.get_dummies(df_tt.dac_w, prefix='dac_w')\n",
    "df_tt = df_tt.drop(['date_account_created', 'dac_w'], axis=1)\n",
    "df_tt = pd.concat((df_tt, df_tt_wd), axis=1)\n",
    "\n",
    "#time_stamp_first_active\n",
    "tfa = np.vstack(df_tt.timestamp_first_active.astype(str).apply(lambda x: list(map(int, [x[:4],x[4:6],x[6:8],x[8:10],x[10:12],x[12:14]]))).values)\n",
    "df_tt['tfa_y'] = tfa[:,0]\n",
    "df_tt['tfa_m'] = tfa[:,1]\n",
    "df_tt['tfa_d'] = tfa[:,2]\n",
    "df_tt['tfa_h'] = tfa[:,3]\n",
    "tfa_dates = [datetime(x[0],x[1],x[2],x[3],x[4],x[5]) for x in tfa]\n",
    "df_tt['tfa_wn'] = np.array([d.isocalendar()[1] for d in tfa_dates])\n",
    "df_tt['tfa_w'] = np.array([d.weekday() for d in tfa_dates])\n",
    "df_tt_wd = pd.get_dummies(df_tt.tfa_w, prefix='tfa_w')\n",
    "df_tt = df_tt.drop(['timestamp_first_active', 'tfa_w'], axis=1)\n",
    "df_tt = pd.concat((df_tt, df_tt_wd), axis=1)\n",
    "\n",
    "#timespans between dates\n",
    "df_tt['dac_tfa_secs'] = np.array([np.log(1+abs((dac_dates[i]-tfa_dates[i]).total_seconds())) for i in range(len(dac_dates))])\n",
    "df_tt['sig_dac_tfa'] = np.array([np.sign((dac_dates[i]-tfa_dates[i]).total_seconds()) for i in range(len(dac_dates))])\n",
    "\n",
    "#age\n",
    "av = df_tt.age.values\n",
    "av = np.where(np.logical_and(av<2000, av>1900), 2014-av, av) #This are birthdays instead of age (estimating age by doing 2014 - value)\n",
    "av = np.where(np.logical_and(av<14, av>0), 4, av) #Using specific value=4 for age values below 14\n",
    "av = np.where(np.logical_and(av<2016, av>2010), 9, av) #This is the current year insted of age (using specific value = 9)\n",
    "av = np.where(av > 99, 110, av)  #Using specific value=110 for age values above 99\n",
    "df_tt['age'] = av\n",
    "\n",
    "#one hot encoding features\n",
    "ohe_feats = ['gender', 'signup_method', 'signup_flow', 'language', 'affiliate_channel', 'affiliate_provider', 'first_affiliate_tracked', 'signup_app', 'first_device_type', 'first_browser']\n",
    "for f in ohe_feats:\n",
    "    df_tt_dummy = pd.get_dummies(df_tt[f], prefix=f)\n",
    "    df_tt = df_tt.drop([f], axis=1)\n",
    "    df_tt = pd.concat((df_tt, df_tt_dummy), axis=1)"
   ]
  },
  {
   "cell_type": "markdown",
   "metadata": {},
   "source": [
    "merge train -test and sessions"
   ]
  },
  {
   "cell_type": "code",
   "execution_count": null,
   "metadata": {},
   "outputs": [],
   "source": [
    "df_all = pd.merge(df_tt, df_agg_sess, how='left')\n",
    "df_all = df_all.drop(['id'], axis=1)\n",
    "df_all = df_all.fillna(-2)\n",
    "df_all['all_null'] = np.array([sum(r<0) for r in df_all.values])   #for all nulls"
   ]
  },
  {
   "cell_type": "markdown",
   "metadata": {},
   "source": [
    "computing test and train values"
   ]
  },
  {
   "cell_type": "code",
   "execution_count": null,
   "metadata": {},
   "outputs": [],
   "source": [
    "piv_train = len(target)   #marker\n",
    "vals = df_all.values\n",
    "le = LabelEncoder()\n",
    "\n",
    "x = vals[:piv_train]\n",
    "y = le.fit_transform(target.values)\n",
    "x_test = vals[piv_train:]"
   ]
  },
  {
   "cell_type": "code",
   "execution_count": 2,
   "metadata": {},
   "outputs": [
    {
     "name": "stderr",
     "output_type": "stream",
     "text": [
      "/home/paperspace/anaconda3/envs/fastai/lib/python3.6/site-packages/ipykernel_launcher.py:221: FutureWarning: using a dict on a Series for aggregation\n",
      "is deprecated and will be removed in a future version\n"
     ]
    }
   ],
   "source": [
    "train_users = pd.read_csv(f'{PATH}train_users_2.csv')\n",
    "test_users = pd.read_csv(f'{PATH}test_users.csv')\n",
    "sessions = pd.read_csv(f'{PATH}sessions.csv')\n",
    "\n",
    "users = pd.concat([train_users, test_users], axis=0, ignore_index=True)\n",
    "\n",
    "\n",
    "users.drop('date_first_booking', axis=1, inplace=True)\n",
    "\n",
    "user_with_year_age_mask = users['age'] > 1900\n",
    "users.loc[user_with_year_age_mask, 'age'] = 2015 - users.loc[user_with_year_age_mask, 'age']\n",
    "\n",
    "users.loc[(users['age'] > 120) | (users['age'] < 18), 'age'] = -1\n",
    "users['age'].fillna(-1, inplace=True)\n",
    "\n",
    "bins = [-1, 20, 25, 30, 40, 50, 60, 75, 100, 120]\n",
    "users['age_group'] = np.digitize(users['age'], bins, right=True)\n",
    "\n",
    "\n",
    "list_browsers=[\"Arora\",\"Avant Browser\",\"Camino\",\"CometBird\",\"Comodo Dragon\",\"Conkeror\",\"CoolNovo\",\"Crazy Browser\",\"Epic\",\"Flock\",\"Google Earth\",\"Googlebot\",\"IBrowse\",\"IceDragon\",\"IceWeasel\",\"Iron\",\"Kindle Browser\",\"Maxthon\",\"Nintendo Browser\",\"NetNewsWire\",\"OmniWeb\",\"Outlook 2007\",\"Pale Moon\",\"Palm Pre web browser\",\"PS Vita browser\",\"RockMelt\",\"SeaMonkey\",\"SiteKiosk\",\"SlimBrowser\",\"Sogou Explorer\",\"Stainless\",\"TenFourFox\",\"TheWorld Browser\",\"UC Browser\",\"wOSBrowser\",\"Yandex.Browser\"]\n",
    "for i in range(len(list_browsers)):\n",
    "    users.loc[(users['first_browser'] == list_browsers[i]),'first_browser'] = 'Others'\n",
    "\n",
    "\n",
    "users.loc[(users['first_browser'] == 'Chrome Mobile') ,'first_browser'] = 'Chrome'\n",
    "users.loc[(users['first_browser'] == 'Chromium'),'first_browser'] = 'Chrome'\n",
    "users.loc[(users['first_browser'] == 'Mobile Firefox') ,'first_browser'] = 'Firefox'\n",
    "users.loc[(users['first_browser'] == 'Mozilla'),'first_browser'] = 'Firefox'\n",
    "users.loc[(users['first_browser'] == 'IE Mobile'),'first_browser'] = 'IE'\n",
    "users.loc[(users['first_browser'] == 'Mobile Safari') ,'first_browser'] = 'Safari'\n",
    "users.loc[(users['first_browser'] == 'Opera Mobile') ,'first_browser'] = 'Opera'\n",
    "users.loc[(users['first_browser'] == 'Opera Mini'),'first_browser'] = 'Opera'\n",
    "\n",
    "users.loc[(users['affiliate_provider'] == 'facebook-open-graph') ,'affiliate_provider'] = 'facebook'\n",
    "\n",
    "users.loc[(users['first_device_type'] == 'Other/Unknown') ,'first_device_type'] = 'Other'\n",
    "users.loc[(users['first_device_type'] == 'Android Tablet') ,'first_device_type'] = 'Tablet'\n",
    "users.loc[(users['first_device_type'] == 'iPad') ,'first_device_type'] = 'Tablet'\n",
    "users.loc[(users['first_device_type'] == 'Android Phone') ,'first_device_type'] = 'Phones'\n",
    "users.loc[(users['first_device_type'] == 'iPhone') ,'first_device_type'] = 'Phones'\n",
    "users.loc[(users['first_device_type'] == 'SmartPhone (Other)') ,'first_device_type'] = 'Phones'\n",
    "users.loc[(users['first_device_type'] == 'Desktop (Other)') ,'first_device_type'] = 'Desktop'\n",
    "users.loc[(users['first_device_type'] == 'Mac Desktop') ,'first_device_type'] = 'Desktop'\n",
    "users.loc[(users['first_device_type'] == 'Windows Desktop') ,'first_device_type'] = 'Desktop'\n",
    "\n",
    "users['nans'] = np.sum([\n",
    "    (users['age'] == -1),\n",
    "    (users['gender'] == '-unknown-'),\n",
    "    (users['language'] == '-unknown-'),\n",
    "    (users['first_affiliate_tracked'] == 'untracked'),\n",
    "    (users['first_browser'] == '-unknown-')\n",
    "], axis=0)\n",
    "\n",
    "users['date_account_created'] = pd.to_datetime(users['date_account_created'], errors='ignore')\n",
    "users['date_first_active'] = pd.to_datetime(users['timestamp_first_active'], format='%Y%m%d%H%M%S')\n",
    "\n",
    "date_account_created = pd.DatetimeIndex(users['date_account_created'])\n",
    "date_first_active = pd.DatetimeIndex(users['date_first_active'])\n",
    "\n",
    "users['day_account_created'] = date_account_created.day\n",
    "users['weekday_account_created'] = date_account_created.weekday\n",
    "users['week_account_created'] = date_account_created.week\n",
    "users['month_account_created'] = date_account_created.month\n",
    "users['year_account_created'] = date_account_created.year\n",
    "users['day_first_active'] = date_first_active.day\n",
    "users['weekday_first_active'] = date_first_active.weekday\n",
    "users['week_first_active'] = date_first_active.week\n",
    "users['month_first_active'] = date_first_active.month\n",
    "users['year_first_active'] = date_first_active.year\n",
    "\n",
    "users['time_lag'] = (date_account_created.values - date_first_active.values).astype(int)\n",
    "\n",
    "drop_list = [\n",
    "    'date_account_created',\n",
    "    'date_first_active',\n",
    "    'timestamp_first_active'\n",
    "]\n",
    "\n",
    "users.drop(drop_list, axis=1, inplace=True)\n",
    "\n",
    "sessions.rename(columns = {'user_id': 'id'}, inplace=True)\n",
    "\n",
    "action_count = sessions.groupby(['id', 'action'])['secs_elapsed'].agg(len).unstack()\n",
    "action_type_count = sessions.groupby(['id', 'action_type'])['secs_elapsed'].agg(len).unstack()\n",
    "action_detail_count = sessions.groupby(['id', 'action_detail'])['secs_elapsed'].agg(len).unstack()\n",
    "device_type_sum = sessions.groupby(['id', 'device_type'])['secs_elapsed'].agg(sum).unstack()\n",
    "\n",
    "sessions_data = pd.concat([action_count, action_type_count, action_detail_count, device_type_sum],axis=1)\n",
    "sessions_data.columns = sessions_data.columns.map(lambda x: str(x) + '_count')\n",
    "\n",
    "# session device_type\n",
    "list_session_device_type=['Windows Desktop','Mac Desktop','Linux Desktop','Chromebook']\n",
    "for i in range(len(list_session_device_type)):\n",
    "    sessions.loc[(sessions['device_type'] == list_session_device_type[i]),'device_type'] = 'Desktop'\n",
    "\n",
    "list_session_device_type=['Android Phone','Blackberry','iPhone','iPodtouch','Opera Phone','Windows Phone']\n",
    "for i in range(len(list_session_device_type)):\n",
    "    sessions.loc[(sessions['device_type'] == list_session_device_type[i]),'device_type'] = 'Phones'\n",
    "    \n",
    "list_session_device_type=['Android App Unknown Phone/Tablet','-unknown-']\n",
    "for i in range(len(list_session_device_type)):\n",
    "    sessions.loc[(sessions['device_type'] == list_session_device_type[i]),'device_type'] = 'Other'\n",
    "\n",
    "## session_action\n",
    "list_session_action=['agree_terms_check','agree_terms_uncheck']\n",
    "for i in range(len(list_session_action)):\n",
    "    sessions.loc[(sessions['action'] == list_session_action[i]),'action'] = 'agree_terms'\n",
    "\n",
    "list_session_action=['ajax_google_translate_description','ajax_google_translate_reviews']\n",
    "for i in range(len(list_session_action)):\n",
    "    sessions.loc[(sessions['action'] == list_session_action[i]),'action'] = 'google_translate'\n",
    "\n",
    "list_session_action=['ajax_payout_edit','ajax_payout_options_by_country']\n",
    "for i in range(len(list_session_action)):\n",
    "    sessions.loc[(sessions['action'] == list_session_action[i]),'action'] = 'payout'\n",
    "    \n",
    "list_session_action=['ajax_photo_widget','ajax_photo_widget_form_iframe']\n",
    "for i in range(len(list_session_action)):\n",
    "    sessions.loc[(sessions['action'] == list_session_action[i]),'action'] = 'photo_widget'\n",
    "    \n",
    "list_session_action=['ajax_referral_banner_experiment_type','ajax_referral_banner_type']\n",
    "for i in range(len(list_session_action)):\n",
    "    sessions.loc[(sessions['action'] == list_session_action[i]),'action'] = 'banner'\n",
    "    \n",
    "list_session_action=['create','create_ach','create_multiple+create_paypal']\n",
    "for i in range(len(list_session_action)):\n",
    "    sessions.loc[(sessions['action'] == list_session_action[i]),'action'] = 'create'\n",
    "\n",
    "list_session_action=['complete','complete_redirect','complete_status']\n",
    "for i in range(len(list_session_action)):\n",
    "    sessions.loc[(sessions['action'] == list_session_action[i]),'action'] = 'complete'    \n",
    "\n",
    "list_session_action=['email_itinerary_colorbox','email_share','email_wishlist']\n",
    "for i in range(len(list_session_action)):\n",
    "    sessions.loc[(sessions['action'] == list_session_action[i]),'action'] = 'email'     \n",
    "\n",
    "list_session_action=['home_safety_landing','home_safety_terms']\n",
    "for i in range(len(list_session_action)):\n",
    "    sessions.loc[(sessions['action'] == list_session_action[i]),'action'] = 'home_safety'  \n",
    "    \n",
    "list_session_action=['jumio_redirect','jumio_token']\n",
    "for i in range(len(list_session_action)):\n",
    "    sessions.loc[(sessions['action'] == list_session_action[i]),'action'] = 'jumio'   \n",
    "\n",
    "list_session_action=['message_to_host_change','message_to_host_focus']\n",
    "for i in range(len(list_session_action)):\n",
    "    sessions.loc[(sessions['action'] == list_session_action[i]),'action'] = 'message_to_host'  \n",
    "\n",
    "list_session_action=['qt_reply_v2','qt_with','qt2']\n",
    "for i in range(len(list_session_action)):\n",
    "    sessions.loc[(sessions['action'] == list_session_action[i]),'action'] = 'qt' \n",
    "\n",
    "list_session_action=['update_cached','update_friends_display','update_hide_from_search_engines','update_notifications']\n",
    "for i in range(len(list_session_action)):\n",
    "    sessions.loc[(sessions['action'] == list_session_action[i]),'action'] = 'update' \n",
    "\n",
    "list_session_action=['travel_plans_current','travel_plans_previous']\n",
    "for i in range(len(list_session_action)):\n",
    "    sessions.loc[(sessions['action'] == list_session_action[i]),'action'] = 'travel_plans'     \n",
    "\n",
    "sessions.loc[(sessions['action'] == 'friends_new'),'action'] = 'friends' \n",
    "sessions.loc[(sessions['action'] == 'departments'),'action'] = 'department'\n",
    "sessions.loc[(sessions['action'] == 'transaction_history_paginated'),'action'] = 'transaction_history'\n",
    "sessions.loc[(sessions['action'] == 'edit_verification'),'action'] = 'edit'\n",
    "sessions.loc[(sessions['action'] == 'kba_update'),'action'] = 'kba'   \n",
    "sessions.loc[(sessions['action'] == 'listings'),'action'] = 'listing'   \n",
    "sessions.loc[(sessions['action'] == 'multi_message'),'action'] = 'multi'  \n",
    "sessions.loc[(sessions['action'] == 'reviews_new'),'action'] = 'reviews'  \n",
    "sessions.loc[(sessions['action'] == 'similar_listings_v2'),'action'] = 'similar_listings' \n",
    "sessions.loc[(sessions['action'] == 'show_code'),'action'] = 'show' \n",
    "sessions.loc[(sessions['action'] == 'social_connections'),'action'] = 'social' \n",
    "sessions.loc[(sessions['action'] == 'terms_and_conditions'),'action'] = 'terms' \n",
    "\n",
    "#action_detail\n",
    "\n",
    "list_coupon_session_action_detail=['apply_coupon','apply_coupon_click','apply_coupon_click_success','apply_coupon_error','coupon_code_click','coupon_field_focus']\n",
    "for i in range(len(list_coupon_session_action_detail)):\n",
    "    sessions.loc[(sessions['action_detail'] == list_coupon_session_action_detail[i]),'sessions_action_detail'] = 'coupon'\n",
    "\n",
    "list_cancel_session_action_detail=['cancellation_policies','cancellation_policy','cancellation_policy_click']\n",
    "for i in range(len(list_cancel_session_action_detail)):\n",
    "    sessions.loc[(sessions['action_detail'] == list_cancel_session_action_detail[i]),'sessions_action_detail'] = 'cancel'\n",
    "\n",
    "list_guest_session_action_detail=['guest_cancellation','guest_itinerary','guest_receipt']\n",
    "for i in range(len(list_guest_session_action_detail)):\n",
    "    sessions.loc[(sessions['action_detail'] == list_guest_session_action_detail[i]),'sessions_action_detail'] = 'guest'\n",
    "    \n",
    "list_host_session_action_detail=['host_guarantee','host_home','host_refund_guest','host_respond','host_respond_page','host_standard_suspension']\n",
    "for i in range(len(list_host_session_action_detail)):\n",
    "    sessions.loc[(sessions['action_detail'] == list_host_session_action_detail[i]),'sessions_action_detail'] = 'host'    \n",
    "    \n",
    "list_listing_session_action_detail=['listing_descriptions','listing_recommendations','listing_reviews','listing_reviews_page','manage_listing','view_listing']\n",
    "for i in range(len(list_listing_session_action_detail)):\n",
    "    sessions.loc[(sessions['action_detail'] == list_listing_session_action_detail[i]),'sessions_action_detail'] = 'listing'       \n",
    "\n",
    "     \n",
    "list_message_session_action_detail=['lookup_message_thread','message_inbox','message_post','message_thread','message_to_host_change','message_to_host_focus']\n",
    "for i in range(len(list_message_session_action_detail)):\n",
    "    sessions.loc[(sessions['action_detail'] == list_message_session_action_detail[i]),'sessions_action_detail'] = 'message'       \n",
    "\n",
    "\n",
    "# Most used device\n",
    "sessions_data['most_used_device'] = sessions.groupby('id')['device_type'].max()\n",
    "\n",
    "users = users.join(sessions_data, on='id')\n",
    "\n",
    "secs_elapsed = sessions.groupby('id')['secs_elapsed']\n",
    "\n",
    "secs_elapsed = secs_elapsed.agg(\n",
    "    {\n",
    "        'secs_elapsed_sum': np.sum,\n",
    "        'secs_elapsed_mean': np.mean,\n",
    "        'secs_elapsed_min': np.min,\n",
    "        'secs_elapsed_max': np.max,\n",
    "        'secs_elapsed_median': np.median,\n",
    "        'secs_elapsed_std': np.std,\n",
    "        'secs_elapsed_var': np.var,\n",
    "        'day_pauses': lambda x: (x > 86400).sum(),\n",
    "        'long_pauses': lambda x: (x > 300000).sum(),\n",
    "        'short_pauses': lambda x: (x < 3600).sum(),\n",
    "        'session_length' : np.count_nonzero\n",
    "    }\n",
    ")\n",
    "\n",
    "users = users.join(secs_elapsed, on='id')\n",
    "\n",
    "\n",
    "categorical_features = [\n",
    "    'gender', 'signup_method', 'signup_flow', 'language',\n",
    "    'affiliate_channel', 'affiliate_provider', 'first_affiliate_tracked',\n",
    "    'signup_app', 'first_device_type', 'first_browser', 'most_used_device'\n",
    "]\n",
    "users = pd.get_dummies(users, columns=categorical_features)\n",
    "\n",
    "\n",
    "users.set_index('id', inplace=True)\n",
    "users.loc[train_users['id']].to_csv('train4_users.csv')\n",
    "users.loc[test_users['id']].drop('country_destination', axis=1).to_csv('test4_users.csv')\n"
   ]
  },
  {
   "cell_type": "code",
   "execution_count": 3,
   "metadata": {},
   "outputs": [],
   "source": [
    "train_users = pd.read_csv('train4_users.csv')\n",
    "\n",
    "train_users.fillna(-1, inplace=True)\n",
    "y_train = train_users['country_destination']\n",
    "train_users.drop(['country_destination', 'id'], axis=1, inplace=True)\n",
    "x_train = train_users.values\n",
    "\n",
    "label_encoder = LabelEncoder()\n",
    "encoded_y_train = label_encoder.fit_transform(y_train)"
   ]
  },
  {
   "cell_type": "code",
   "execution_count": 14,
   "metadata": {},
   "outputs": [
    {
     "data": {
      "text/plain": [
       "213451"
      ]
     },
     "execution_count": 14,
     "metadata": {},
     "output_type": "execute_result"
    }
   ],
   "source": [
    "n = len(x_train);n"
   ]
  },
  {
   "cell_type": "code",
   "execution_count": 15,
   "metadata": {},
   "outputs": [],
   "source": [
    "val_idxs = get_cv_idxs(n)"
   ]
  },
  {
   "cell_type": "code",
   "execution_count": null,
   "metadata": {},
   "outputs": [],
   "source": [
    "cat_vars = [1,2,3]"
   ]
  },
  {
   "cell_type": "code",
   "execution_count": 16,
   "metadata": {},
   "outputs": [
    {
     "ename": "KeyError",
     "evalue": "\"['gender' 'signup_method' 'signup_flow' 'language' 'affiliate_channel' 'affiliate_provider'\\n 'first_affiliate_tracked' 'signup_app' 'first_device_type' 'first_browser' 'most_used_device'] not in index\"",
     "output_type": "error",
     "traceback": [
      "\u001b[0;31m---------------------------------------------------------------------------\u001b[0m",
      "\u001b[0;31mKeyError\u001b[0m                                  Traceback (most recent call last)",
      "\u001b[0;32m<ipython-input-16-25608a0d8cb9>\u001b[0m in \u001b[0;36m<module>\u001b[0;34m()\u001b[0m\n\u001b[0;32m----> 1\u001b[0;31m \u001b[0mmd\u001b[0m \u001b[0;34m=\u001b[0m \u001b[0mColumnarModelData\u001b[0m\u001b[0;34m.\u001b[0m\u001b[0mfrom_data_frame\u001b[0m\u001b[0;34m(\u001b[0m\u001b[0mPATH\u001b[0m\u001b[0;34m,\u001b[0m\u001b[0mval_idxs\u001b[0m\u001b[0;34m,\u001b[0m\u001b[0mx_train\u001b[0m\u001b[0;34m,\u001b[0m\u001b[0mencoded_y_train\u001b[0m\u001b[0;34m,\u001b[0m\u001b[0mcat_flds\u001b[0m \u001b[0;34m=\u001b[0m \u001b[0mcategorical_features\u001b[0m\u001b[0;34m,\u001b[0m\u001b[0mbs\u001b[0m\u001b[0;34m=\u001b[0m\u001b[0;36m128\u001b[0m\u001b[0;34m)\u001b[0m\u001b[0;34m\u001b[0m\u001b[0m\n\u001b[0m",
      "\u001b[0;32m~/fastai/courses/dl1/fastai/column_data.py\u001b[0m in \u001b[0;36mfrom_data_frame\u001b[0;34m(cls, path, val_idxs, df, y, cat_flds, bs, is_reg, is_multi, test_df)\u001b[0m\n\u001b[1;32m     71\u001b[0m     \u001b[0;32mdef\u001b[0m \u001b[0mfrom_data_frame\u001b[0m\u001b[0;34m(\u001b[0m\u001b[0mcls\u001b[0m\u001b[0;34m,\u001b[0m \u001b[0mpath\u001b[0m\u001b[0;34m,\u001b[0m \u001b[0mval_idxs\u001b[0m\u001b[0;34m,\u001b[0m \u001b[0mdf\u001b[0m\u001b[0;34m,\u001b[0m \u001b[0my\u001b[0m\u001b[0;34m,\u001b[0m \u001b[0mcat_flds\u001b[0m\u001b[0;34m,\u001b[0m \u001b[0mbs\u001b[0m\u001b[0;34m,\u001b[0m \u001b[0mis_reg\u001b[0m\u001b[0;34m=\u001b[0m\u001b[0;32mTrue\u001b[0m\u001b[0;34m,\u001b[0m \u001b[0mis_multi\u001b[0m\u001b[0;34m=\u001b[0m\u001b[0;32mFalse\u001b[0m\u001b[0;34m,\u001b[0m \u001b[0mtest_df\u001b[0m\u001b[0;34m=\u001b[0m\u001b[0;32mNone\u001b[0m\u001b[0;34m)\u001b[0m\u001b[0;34m:\u001b[0m\u001b[0;34m\u001b[0m\u001b[0m\n\u001b[1;32m     72\u001b[0m         \u001b[0;34m(\u001b[0m\u001b[0;34m(\u001b[0m\u001b[0mval_df\u001b[0m\u001b[0;34m,\u001b[0m \u001b[0mtrn_df\u001b[0m\u001b[0;34m)\u001b[0m\u001b[0;34m,\u001b[0m \u001b[0;34m(\u001b[0m\u001b[0mval_y\u001b[0m\u001b[0;34m,\u001b[0m \u001b[0mtrn_y\u001b[0m\u001b[0;34m)\u001b[0m\u001b[0;34m)\u001b[0m \u001b[0;34m=\u001b[0m \u001b[0msplit_by_idx\u001b[0m\u001b[0;34m(\u001b[0m\u001b[0mval_idxs\u001b[0m\u001b[0;34m,\u001b[0m \u001b[0mdf\u001b[0m\u001b[0;34m,\u001b[0m \u001b[0my\u001b[0m\u001b[0;34m)\u001b[0m\u001b[0;34m\u001b[0m\u001b[0m\n\u001b[0;32m---> 73\u001b[0;31m         \u001b[0;32mreturn\u001b[0m \u001b[0mcls\u001b[0m\u001b[0;34m.\u001b[0m\u001b[0mfrom_data_frames\u001b[0m\u001b[0;34m(\u001b[0m\u001b[0mpath\u001b[0m\u001b[0;34m,\u001b[0m \u001b[0mtrn_df\u001b[0m\u001b[0;34m,\u001b[0m \u001b[0mval_df\u001b[0m\u001b[0;34m,\u001b[0m \u001b[0mtrn_y\u001b[0m\u001b[0;34m,\u001b[0m \u001b[0mval_y\u001b[0m\u001b[0;34m,\u001b[0m \u001b[0mcat_flds\u001b[0m\u001b[0;34m,\u001b[0m \u001b[0mbs\u001b[0m\u001b[0;34m,\u001b[0m \u001b[0mis_reg\u001b[0m\u001b[0;34m,\u001b[0m \u001b[0mis_multi\u001b[0m\u001b[0;34m,\u001b[0m \u001b[0mtest_df\u001b[0m\u001b[0;34m=\u001b[0m\u001b[0mtest_df\u001b[0m\u001b[0;34m)\u001b[0m\u001b[0;34m\u001b[0m\u001b[0m\n\u001b[0m\u001b[1;32m     74\u001b[0m \u001b[0;34m\u001b[0m\u001b[0m\n\u001b[1;32m     75\u001b[0m     def get_learner(self, emb_szs, n_cont, emb_drop, out_sz, szs, drops,\n",
      "\u001b[0;32m~/fastai/courses/dl1/fastai/column_data.py\u001b[0m in \u001b[0;36mfrom_data_frames\u001b[0;34m(cls, path, trn_df, val_df, trn_y, val_y, cat_flds, bs, is_reg, is_multi, test_df)\u001b[0m\n\u001b[1;32m     65\u001b[0m     \u001b[0;32mdef\u001b[0m \u001b[0mfrom_data_frames\u001b[0m\u001b[0;34m(\u001b[0m\u001b[0mcls\u001b[0m\u001b[0;34m,\u001b[0m \u001b[0mpath\u001b[0m\u001b[0;34m,\u001b[0m \u001b[0mtrn_df\u001b[0m\u001b[0;34m,\u001b[0m \u001b[0mval_df\u001b[0m\u001b[0;34m,\u001b[0m \u001b[0mtrn_y\u001b[0m\u001b[0;34m,\u001b[0m \u001b[0mval_y\u001b[0m\u001b[0;34m,\u001b[0m \u001b[0mcat_flds\u001b[0m\u001b[0;34m,\u001b[0m \u001b[0mbs\u001b[0m\u001b[0;34m,\u001b[0m \u001b[0mis_reg\u001b[0m\u001b[0;34m,\u001b[0m \u001b[0mis_multi\u001b[0m\u001b[0;34m,\u001b[0m \u001b[0mtest_df\u001b[0m\u001b[0;34m=\u001b[0m\u001b[0;32mNone\u001b[0m\u001b[0;34m)\u001b[0m\u001b[0;34m:\u001b[0m\u001b[0;34m\u001b[0m\u001b[0m\n\u001b[1;32m     66\u001b[0m         \u001b[0mtest_ds\u001b[0m \u001b[0;34m=\u001b[0m \u001b[0mColumnarDataset\u001b[0m\u001b[0;34m.\u001b[0m\u001b[0mfrom_data_frame\u001b[0m\u001b[0;34m(\u001b[0m\u001b[0mtest_df\u001b[0m\u001b[0;34m,\u001b[0m \u001b[0mcat_flds\u001b[0m\u001b[0;34m,\u001b[0m \u001b[0;32mNone\u001b[0m\u001b[0;34m,\u001b[0m \u001b[0mis_reg\u001b[0m\u001b[0;34m,\u001b[0m \u001b[0mis_multi\u001b[0m\u001b[0;34m)\u001b[0m \u001b[0;32mif\u001b[0m \u001b[0mtest_df\u001b[0m \u001b[0;32mis\u001b[0m \u001b[0;32mnot\u001b[0m \u001b[0;32mNone\u001b[0m \u001b[0;32melse\u001b[0m \u001b[0;32mNone\u001b[0m\u001b[0;34m\u001b[0m\u001b[0m\n\u001b[0;32m---> 67\u001b[0;31m         return cls(path, ColumnarDataset.from_data_frame(trn_df, cat_flds, trn_y, is_reg, is_multi),\n\u001b[0m\u001b[1;32m     68\u001b[0m                     ColumnarDataset.from_data_frame(val_df, cat_flds, val_y, is_reg, is_multi), bs, test_ds=test_ds)\n\u001b[1;32m     69\u001b[0m \u001b[0;34m\u001b[0m\u001b[0m\n",
      "\u001b[0;32m~/fastai/courses/dl1/fastai/column_data.py\u001b[0m in \u001b[0;36mfrom_data_frame\u001b[0;34m(cls, df, cat_flds, y, is_reg, is_multi)\u001b[0m\n\u001b[1;32m     45\u001b[0m     \u001b[0;34m@\u001b[0m\u001b[0mclassmethod\u001b[0m\u001b[0;34m\u001b[0m\u001b[0m\n\u001b[1;32m     46\u001b[0m     \u001b[0;32mdef\u001b[0m \u001b[0mfrom_data_frame\u001b[0m\u001b[0;34m(\u001b[0m\u001b[0mcls\u001b[0m\u001b[0;34m,\u001b[0m \u001b[0mdf\u001b[0m\u001b[0;34m,\u001b[0m \u001b[0mcat_flds\u001b[0m\u001b[0;34m,\u001b[0m \u001b[0my\u001b[0m\u001b[0;34m=\u001b[0m\u001b[0;32mNone\u001b[0m\u001b[0;34m,\u001b[0m \u001b[0mis_reg\u001b[0m\u001b[0;34m=\u001b[0m\u001b[0;32mTrue\u001b[0m\u001b[0;34m,\u001b[0m \u001b[0mis_multi\u001b[0m\u001b[0;34m=\u001b[0m\u001b[0;32mFalse\u001b[0m\u001b[0;34m)\u001b[0m\u001b[0;34m:\u001b[0m\u001b[0;34m\u001b[0m\u001b[0m\n\u001b[0;32m---> 47\u001b[0;31m         \u001b[0;32mreturn\u001b[0m \u001b[0mcls\u001b[0m\u001b[0;34m.\u001b[0m\u001b[0mfrom_data_frames\u001b[0m\u001b[0;34m(\u001b[0m\u001b[0mdf\u001b[0m\u001b[0;34m[\u001b[0m\u001b[0mcat_flds\u001b[0m\u001b[0;34m]\u001b[0m\u001b[0;34m,\u001b[0m \u001b[0mdf\u001b[0m\u001b[0;34m.\u001b[0m\u001b[0mdrop\u001b[0m\u001b[0;34m(\u001b[0m\u001b[0mcat_flds\u001b[0m\u001b[0;34m,\u001b[0m \u001b[0maxis\u001b[0m\u001b[0;34m=\u001b[0m\u001b[0;36m1\u001b[0m\u001b[0;34m)\u001b[0m\u001b[0;34m,\u001b[0m \u001b[0my\u001b[0m\u001b[0;34m,\u001b[0m \u001b[0mis_reg\u001b[0m\u001b[0;34m,\u001b[0m \u001b[0mis_multi\u001b[0m\u001b[0;34m)\u001b[0m\u001b[0;34m\u001b[0m\u001b[0m\n\u001b[0m\u001b[1;32m     48\u001b[0m \u001b[0;34m\u001b[0m\u001b[0m\n\u001b[1;32m     49\u001b[0m \u001b[0;34m\u001b[0m\u001b[0m\n",
      "\u001b[0;32m~/anaconda3/envs/fastai/lib/python3.6/site-packages/pandas/core/frame.py\u001b[0m in \u001b[0;36m__getitem__\u001b[0;34m(self, key)\u001b[0m\n\u001b[1;32m   2131\u001b[0m         \u001b[0;32mif\u001b[0m \u001b[0misinstance\u001b[0m\u001b[0;34m(\u001b[0m\u001b[0mkey\u001b[0m\u001b[0;34m,\u001b[0m \u001b[0;34m(\u001b[0m\u001b[0mSeries\u001b[0m\u001b[0;34m,\u001b[0m \u001b[0mnp\u001b[0m\u001b[0;34m.\u001b[0m\u001b[0mndarray\u001b[0m\u001b[0;34m,\u001b[0m \u001b[0mIndex\u001b[0m\u001b[0;34m,\u001b[0m \u001b[0mlist\u001b[0m\u001b[0;34m)\u001b[0m\u001b[0;34m)\u001b[0m\u001b[0;34m:\u001b[0m\u001b[0;34m\u001b[0m\u001b[0m\n\u001b[1;32m   2132\u001b[0m             \u001b[0;31m# either boolean or fancy integer index\u001b[0m\u001b[0;34m\u001b[0m\u001b[0;34m\u001b[0m\u001b[0m\n\u001b[0;32m-> 2133\u001b[0;31m             \u001b[0;32mreturn\u001b[0m \u001b[0mself\u001b[0m\u001b[0;34m.\u001b[0m\u001b[0m_getitem_array\u001b[0m\u001b[0;34m(\u001b[0m\u001b[0mkey\u001b[0m\u001b[0;34m)\u001b[0m\u001b[0;34m\u001b[0m\u001b[0m\n\u001b[0m\u001b[1;32m   2134\u001b[0m         \u001b[0;32melif\u001b[0m \u001b[0misinstance\u001b[0m\u001b[0;34m(\u001b[0m\u001b[0mkey\u001b[0m\u001b[0;34m,\u001b[0m \u001b[0mDataFrame\u001b[0m\u001b[0;34m)\u001b[0m\u001b[0;34m:\u001b[0m\u001b[0;34m\u001b[0m\u001b[0m\n\u001b[1;32m   2135\u001b[0m             \u001b[0;32mreturn\u001b[0m \u001b[0mself\u001b[0m\u001b[0;34m.\u001b[0m\u001b[0m_getitem_frame\u001b[0m\u001b[0;34m(\u001b[0m\u001b[0mkey\u001b[0m\u001b[0;34m)\u001b[0m\u001b[0;34m\u001b[0m\u001b[0m\n",
      "\u001b[0;32m~/anaconda3/envs/fastai/lib/python3.6/site-packages/pandas/core/frame.py\u001b[0m in \u001b[0;36m_getitem_array\u001b[0;34m(self, key)\u001b[0m\n\u001b[1;32m   2175\u001b[0m             \u001b[0;32mreturn\u001b[0m \u001b[0mself\u001b[0m\u001b[0;34m.\u001b[0m\u001b[0m_take\u001b[0m\u001b[0;34m(\u001b[0m\u001b[0mindexer\u001b[0m\u001b[0;34m,\u001b[0m \u001b[0maxis\u001b[0m\u001b[0;34m=\u001b[0m\u001b[0;36m0\u001b[0m\u001b[0;34m,\u001b[0m \u001b[0mconvert\u001b[0m\u001b[0;34m=\u001b[0m\u001b[0;32mFalse\u001b[0m\u001b[0;34m)\u001b[0m\u001b[0;34m\u001b[0m\u001b[0m\n\u001b[1;32m   2176\u001b[0m         \u001b[0;32melse\u001b[0m\u001b[0;34m:\u001b[0m\u001b[0;34m\u001b[0m\u001b[0m\n\u001b[0;32m-> 2177\u001b[0;31m             \u001b[0mindexer\u001b[0m \u001b[0;34m=\u001b[0m \u001b[0mself\u001b[0m\u001b[0;34m.\u001b[0m\u001b[0mloc\u001b[0m\u001b[0;34m.\u001b[0m\u001b[0m_convert_to_indexer\u001b[0m\u001b[0;34m(\u001b[0m\u001b[0mkey\u001b[0m\u001b[0;34m,\u001b[0m \u001b[0maxis\u001b[0m\u001b[0;34m=\u001b[0m\u001b[0;36m1\u001b[0m\u001b[0;34m)\u001b[0m\u001b[0;34m\u001b[0m\u001b[0m\n\u001b[0m\u001b[1;32m   2178\u001b[0m             \u001b[0;32mreturn\u001b[0m \u001b[0mself\u001b[0m\u001b[0;34m.\u001b[0m\u001b[0m_take\u001b[0m\u001b[0;34m(\u001b[0m\u001b[0mindexer\u001b[0m\u001b[0;34m,\u001b[0m \u001b[0maxis\u001b[0m\u001b[0;34m=\u001b[0m\u001b[0;36m1\u001b[0m\u001b[0;34m,\u001b[0m \u001b[0mconvert\u001b[0m\u001b[0;34m=\u001b[0m\u001b[0;32mTrue\u001b[0m\u001b[0;34m)\u001b[0m\u001b[0;34m\u001b[0m\u001b[0m\n\u001b[1;32m   2179\u001b[0m \u001b[0;34m\u001b[0m\u001b[0m\n",
      "\u001b[0;32m~/anaconda3/envs/fastai/lib/python3.6/site-packages/pandas/core/indexing.py\u001b[0m in \u001b[0;36m_convert_to_indexer\u001b[0;34m(self, obj, axis, is_setter)\u001b[0m\n\u001b[1;32m   1267\u001b[0m                 \u001b[0;32mif\u001b[0m \u001b[0mmask\u001b[0m\u001b[0;34m.\u001b[0m\u001b[0many\u001b[0m\u001b[0;34m(\u001b[0m\u001b[0;34m)\u001b[0m\u001b[0;34m:\u001b[0m\u001b[0;34m\u001b[0m\u001b[0m\n\u001b[1;32m   1268\u001b[0m                     raise KeyError('{mask} not in index'\n\u001b[0;32m-> 1269\u001b[0;31m                                    .format(mask=objarr[mask]))\n\u001b[0m\u001b[1;32m   1270\u001b[0m \u001b[0;34m\u001b[0m\u001b[0m\n\u001b[1;32m   1271\u001b[0m                 \u001b[0;32mreturn\u001b[0m \u001b[0m_values_from_object\u001b[0m\u001b[0;34m(\u001b[0m\u001b[0mindexer\u001b[0m\u001b[0;34m)\u001b[0m\u001b[0;34m\u001b[0m\u001b[0m\n",
      "\u001b[0;31mKeyError\u001b[0m: \"['gender' 'signup_method' 'signup_flow' 'language' 'affiliate_channel' 'affiliate_provider'\\n 'first_affiliate_tracked' 'signup_app' 'first_device_type' 'first_browser' 'most_used_device'] not in index\""
     ]
    }
   ],
   "source": [
    "md = ColumnarModelData.from_data_frame(PATH,val_idxs,x_train,encoded_y_train,cat_flds = categorical_features,bs=128)"
   ]
  },
  {
   "cell_type": "code",
   "execution_count": null,
   "metadata": {},
   "outputs": [],
   "source": [
    "cat_sz = [(c, len(x[c].cat.categories)+1) for c in cat_vars]"
   ]
  },
  {
   "cell_type": "code",
   "execution_count": null,
   "metadata": {},
   "outputs": [],
   "source": [
    "m = md.get_learner()"
   ]
  },
  {
   "cell_type": "code",
   "execution_count": null,
   "metadata": {},
   "outputs": [],
   "source": []
  }
 ],
 "metadata": {
  "kernelspec": {
   "display_name": "Python 3",
   "language": "python",
   "name": "python3"
  },
  "language_info": {
   "codemirror_mode": {
    "name": "ipython",
    "version": 3
   },
   "file_extension": ".py",
   "mimetype": "text/x-python",
   "name": "python",
   "nbconvert_exporter": "python",
   "pygments_lexer": "ipython3",
   "version": "3.6.4"
  }
 },
 "nbformat": 4,
 "nbformat_minor": 2
}
